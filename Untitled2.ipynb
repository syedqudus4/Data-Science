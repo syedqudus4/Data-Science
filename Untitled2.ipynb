{
  "nbformat": 4,
  "nbformat_minor": 0,
  "metadata": {
    "colab": {
      "provenance": [],
      "authorship_tag": "ABX9TyO9HBh7NEAbi5i/Jbwq3ExO",
      "include_colab_link": true
    },
    "kernelspec": {
      "name": "python3",
      "display_name": "Python 3"
    },
    "language_info": {
      "name": "python"
    }
  },
  "cells": [
    {
      "cell_type": "markdown",
      "metadata": {
        "id": "view-in-github",
        "colab_type": "text"
      },
      "source": [
        "<a href=\"https://colab.research.google.com/github/syedqudus4/Data-Science/blob/main/Untitled2.ipynb\" target=\"_parent\"><img src=\"https://colab.research.google.com/assets/colab-badge.svg\" alt=\"Open In Colab\"/></a>"
      ]
    },
    {
      "cell_type": "code",
      "execution_count": 2,
      "metadata": {
        "id": "dYsRubLbdHHh",
        "colab": {
          "base_uri": "https://localhost:8080/"
        },
        "outputId": "fadd0e62-e3a4-4a06-bfd0-07be1c3162a3"
      },
      "outputs": [
        {
          "output_type": "stream",
          "name": "stdout",
          "text": [
            "This is my first code from the University of Bahamas\n",
            "I am a good man\n"
          ]
        }
      ],
      "source": [
        "print(\"This is my first code from the University of Bahamas\")\n",
        "print(\"I am a good man\")"
      ]
    },
    {
      "cell_type": "code",
      "source": [
        "X=4.0\n",
        "print(X)"
      ],
      "metadata": {
        "colab": {
          "base_uri": "https://localhost:8080/"
        },
        "id": "o_T5DJDNNf6M",
        "outputId": "fddca14c-d954-49fe-fd83-4b8f616e0fab"
      },
      "execution_count": 3,
      "outputs": [
        {
          "output_type": "stream",
          "name": "stdout",
          "text": [
            "4.0\n"
          ]
        }
      ]
    },
    {
      "cell_type": "code",
      "source": [
        "x = 4.0\n",
        "print(type(x))"
      ],
      "metadata": {
        "colab": {
          "base_uri": "https://localhost:8080/"
        },
        "id": "36v9K9mXN0SK",
        "outputId": "fd9deee5-2dbc-432d-cadc-10f2c61cff5e"
      },
      "execution_count": 4,
      "outputs": [
        {
          "output_type": "stream",
          "name": "stdout",
          "text": [
            "<class 'float'>\n"
          ]
        }
      ]
    },
    {
      "cell_type": "code",
      "source": [
        "x = 3\n",
        "y = 5\n",
        "\n",
        "print(x+y) #8\n",
        "print(x-y) #2\n",
        "print(x*y) #15\n",
        "print(x/y) #1.666\n",
        "print(x//y) #1\n",
        "print(x**y) #125"
      ],
      "metadata": {
        "colab": {
          "base_uri": "https://localhost:8080/"
        },
        "id": "cnOpVE5sOO9R",
        "outputId": "83be0231-7377-4b33-9e60-4f4c6d9d51ac"
      },
      "execution_count": 11,
      "outputs": [
        {
          "output_type": "stream",
          "name": "stdout",
          "text": [
            "8\n",
            "-2\n",
            "15\n",
            "0.6\n",
            "0\n",
            "243\n"
          ]
        }
      ]
    },
    {
      "cell_type": "code",
      "source": [
        "a = 10\n",
        "b = 2\n",
        "result1 = a ** b\n",
        "\n",
        "a = 1.5\n",
        "b = 2.5\n",
        "result2 = a ** b\n",
        "\n",
        "a = 3 + 2j\n",
        "b = 3 + 5j\n",
        "result3 = a ** b\n",
        "\n",
        "print(result1)\n",
        "print(result2)\n",
        "print(result3)"
      ],
      "metadata": {
        "colab": {
          "base_uri": "https://localhost:8080/"
        },
        "id": "kBYuYpoxQtOx",
        "outputId": "72374b18-9b32-4897-e8de-e1a7fb7c39aa"
      },
      "execution_count": 12,
      "outputs": [
        {
          "output_type": "stream",
          "name": "stdout",
          "text": [
            "100\n",
            "2.7556759606310752\n",
            "(-0.7851059645317211+2.350232331971346j)\n"
          ]
        }
      ]
    }
  ]
}